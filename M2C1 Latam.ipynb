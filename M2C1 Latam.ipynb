{
 "cells": [
  {
   "cell_type": "markdown",
   "metadata": {},
   "source": [
    "# Latam Airlines"
   ]
  },
  {
   "cell_type": "markdown",
   "metadata": {},
   "source": [
    "<img src=\"https://external-content.duckduckgo.com/iu/?u=https%3A%2F%2Flogodownload.org%2Fwp-content%2Fuploads%2F2016%2F11%2Flatam-logo_.png&f=1&nofb=1\" style=\"color:blue;\" />"
   ]
  },
  {
   "cell_type": "code",
   "execution_count": 1,
   "metadata": {},
   "outputs": [],
   "source": [
    "from selenium import webdriver\n",
    "from selenium.webdriver.support.ui import WebDriverWait\n"
   ]
  },
  {
   "cell_type": "code",
   "execution_count": 2,
   "metadata": {},
   "outputs": [],
   "source": [
    "url = 'https://www.latam.com/es_ar/apps/personas/booking?fecha1_dia=28&fecha1_anomes=2020-10&ida_vuelta=ida_vuelta&from_city1=EZE&to_city1=MEX&cabina=Y&nadults=1&nchildren=0&ninfants=0&fecha2_dia=01&fecha2_anomes=2020-11&application=&from_city2=MEX&to_city2=EZE#/'"
   ]
  },
  {
   "cell_type": "markdown",
   "metadata": {},
   "source": [
    "Paso 1: Instanciar un driver del navegador"
   ]
  },
  {
   "cell_type": "code",
   "execution_count": 3,
   "metadata": {},
   "outputs": [],
   "source": [
    "options = webdriver.ChromeOptions()\n",
    "options.add_argument('--incognito')\n",
    "driver = webdriver.Chrome(executable_path= './chromedriver.exe', options=options)"
   ]
  },
  {
   "cell_type": "markdown",
   "metadata": {},
   "source": [
    "Paso 2. Hacer qe el avegador cargue la paguina web"
   ]
  },
  {
   "cell_type": "code",
   "execution_count": 239,
   "metadata": {},
   "outputs": [],
   "source": [
    "driver.get(url)"
   ]
  },
  {
   "cell_type": "code",
   "execution_count": 275,
   "metadata": {},
   "outputs": [
    {
     "data": {
      "text/plain": [
       "[<selenium.webdriver.remote.webelement.WebElement (session=\"49c00cde54d6dd48a1cee683922dea53\", element=\"e14336f8-7389-4742-886f-99e0097e083d\")>,\n",
       " <selenium.webdriver.remote.webelement.WebElement (session=\"49c00cde54d6dd48a1cee683922dea53\", element=\"743b10ae-fe7b-4baf-ac8a-ad6ab61b723b\")>,\n",
       " <selenium.webdriver.remote.webelement.WebElement (session=\"49c00cde54d6dd48a1cee683922dea53\", element=\"a73678dd-ac15-455d-9bfb-dd5a62bdaac6\")>,\n",
       " <selenium.webdriver.remote.webelement.WebElement (session=\"49c00cde54d6dd48a1cee683922dea53\", element=\"1db9abf9-9baf-42e4-a685-733cf2f2b593\")>,\n",
       " <selenium.webdriver.remote.webelement.WebElement (session=\"49c00cde54d6dd48a1cee683922dea53\", element=\"44a97c62-d9ba-4f14-a46e-9b1ad2741cd1\")>,\n",
       " <selenium.webdriver.remote.webelement.WebElement (session=\"49c00cde54d6dd48a1cee683922dea53\", element=\"e4e304c4-0c84-4f0c-8a35-6977f7710eaa\")>,\n",
       " <selenium.webdriver.remote.webelement.WebElement (session=\"49c00cde54d6dd48a1cee683922dea53\", element=\"86d7d669-babd-4917-9257-025e5b6f1c0a\")>,\n",
       " <selenium.webdriver.remote.webelement.WebElement (session=\"49c00cde54d6dd48a1cee683922dea53\", element=\"ee4f0f05-5f40-4a2d-8638-b8ac4c6d70ee\")>,\n",
       " <selenium.webdriver.remote.webelement.WebElement (session=\"49c00cde54d6dd48a1cee683922dea53\", element=\"be1bf55a-eb95-431c-b117-3d7dd2ed5988\")>,\n",
       " <selenium.webdriver.remote.webelement.WebElement (session=\"49c00cde54d6dd48a1cee683922dea53\", element=\"02d557ae-1745-496f-89a6-3c07116678e2\")>,\n",
       " <selenium.webdriver.remote.webelement.WebElement (session=\"49c00cde54d6dd48a1cee683922dea53\", element=\"db7b838a-69a1-4ada-be65-eb8bc2d0f91f\")>,\n",
       " <selenium.webdriver.remote.webelement.WebElement (session=\"49c00cde54d6dd48a1cee683922dea53\", element=\"13ab7ee4-bd79-45f3-a411-d7690df7a0ba\")>,\n",
       " <selenium.webdriver.remote.webelement.WebElement (session=\"49c00cde54d6dd48a1cee683922dea53\", element=\"d803ba87-5ef8-4efb-9c02-5cec05b56c01\")>,\n",
       " <selenium.webdriver.remote.webelement.WebElement (session=\"49c00cde54d6dd48a1cee683922dea53\", element=\"0af632e9-6b4d-48c5-a0cc-e686c145e349\")>,\n",
       " <selenium.webdriver.remote.webelement.WebElement (session=\"49c00cde54d6dd48a1cee683922dea53\", element=\"fab3e8b1-0344-45f7-b48b-90a9cdd07f14\")>,\n",
       " <selenium.webdriver.remote.webelement.WebElement (session=\"49c00cde54d6dd48a1cee683922dea53\", element=\"87a1cfe5-0adb-49c2-80fb-4e2229d62efe\")>,\n",
       " <selenium.webdriver.remote.webelement.WebElement (session=\"49c00cde54d6dd48a1cee683922dea53\", element=\"f64c2a73-e554-40aa-b991-104aab8bd8ae\")>,\n",
       " <selenium.webdriver.remote.webelement.WebElement (session=\"49c00cde54d6dd48a1cee683922dea53\", element=\"80d17e0e-410b-4de1-b47b-1c2c7a9a07ae\")>]"
      ]
     },
     "execution_count": 275,
     "metadata": {},
     "output_type": "execute_result"
    }
   ],
   "source": [
    "vuelos = driver.find_elements_by_xpath('//li[@class=\"flight\"]')\n",
    "vuelos"
   ]
  },
  {
   "cell_type": "code",
   "execution_count": 276,
   "metadata": {},
   "outputs": [],
   "source": [
    "vuelo = vuelos[0]"
   ]
  },
  {
   "cell_type": "code",
   "execution_count": 277,
   "metadata": {},
   "outputs": [
    {
     "data": {
      "text/plain": [
       "'03:55'"
      ]
     },
     "execution_count": 277,
     "metadata": {},
     "output_type": "execute_result"
    }
   ],
   "source": [
    "# Hora de salida del vuelo\n",
    "vuelo.find_element_by_xpath('.//div[@class=\"departure\"]/time').get_attribute('datetime')"
   ]
  },
  {
   "cell_type": "code",
   "execution_count": 278,
   "metadata": {},
   "outputs": [
    {
     "data": {
      "text/plain": [
       "'13:55'"
      ]
     },
     "execution_count": 278,
     "metadata": {},
     "output_type": "execute_result"
    }
   ],
   "source": [
    "# hora de llegada\n",
    "vuelo.find_element_by_xpath('.//div[@class=\"arrival\"]/time').get_attribute('datetime')"
   ]
  },
  {
   "cell_type": "code",
   "execution_count": 279,
   "metadata": {},
   "outputs": [
    {
     "data": {
      "text/plain": [
       "'PT13H'"
      ]
     },
     "execution_count": 279,
     "metadata": {},
     "output_type": "execute_result"
    }
   ],
   "source": [
    "# Duracion del vuelo\n",
    "vuelo.find_element_by_xpath('.//span[@class=\"duration\"]/time').get_attribute('datetime')"
   ]
  },
  {
   "cell_type": "markdown",
   "metadata": {},
   "source": [
    "### Interactuando con los elementos"
   ]
  },
  {
   "cell_type": "code",
   "execution_count": 280,
   "metadata": {},
   "outputs": [],
   "source": [
    "boton_escalas = vuelo.find_element_by_xpath('.//div[@class=\"flight-summary-stops-description\"]/button')"
   ]
  },
  {
   "cell_type": "code",
   "execution_count": 281,
   "metadata": {},
   "outputs": [],
   "source": [
    "boton_escalas.click()"
   ]
  },
  {
   "cell_type": "code",
   "execution_count": 282,
   "metadata": {},
   "outputs": [
    {
     "data": {
      "text/plain": [
       "[<selenium.webdriver.remote.webelement.WebElement (session=\"49c00cde54d6dd48a1cee683922dea53\", element=\"e1d0ad10-12ff-49ad-8cb6-c3f28ce9df65\")>,\n",
       " <selenium.webdriver.remote.webelement.WebElement (session=\"49c00cde54d6dd48a1cee683922dea53\", element=\"a14c666d-c4fb-444e-b53e-3cf3c55f9ae2\")>]"
      ]
     },
     "execution_count": 282,
     "metadata": {},
     "output_type": "execute_result"
    }
   ],
   "source": [
    "segmentos = vuelo.find_elements_by_xpath('//div[@class=\"sc-hZSUBg gfeULV\"]/div[@class=\"sc-cLQEGU hyoued\"]')\n",
    "segmentos"
   ]
  },
  {
   "cell_type": "code",
   "execution_count": 283,
   "metadata": {},
   "outputs": [
    {
     "data": {
      "text/plain": [
       "1"
      ]
     },
     "execution_count": 283,
     "metadata": {},
     "output_type": "execute_result"
    }
   ],
   "source": [
    "escalas = len(segmentos) - 1\n",
    "escalas"
   ]
  },
  {
   "cell_type": "code",
   "execution_count": 284,
   "metadata": {},
   "outputs": [
    {
     "data": {
      "text/plain": [
       "<selenium.webdriver.remote.webelement.WebElement (session=\"49c00cde54d6dd48a1cee683922dea53\", element=\"e1d0ad10-12ff-49ad-8cb6-c3f28ce9df65\")>"
      ]
     },
     "execution_count": 284,
     "metadata": {},
     "output_type": "execute_result"
    }
   ],
   "source": [
    "segmento = segmentos[0]\n",
    "segmento"
   ]
  },
  {
   "cell_type": "code",
   "execution_count": 285,
   "metadata": {},
   "outputs": [
    {
     "data": {
      "text/plain": [
       "'EZE'"
      ]
     },
     "execution_count": 285,
     "metadata": {},
     "output_type": "execute_result"
    }
   ],
   "source": [
    "# Origen\n",
    "# Lugar Salida\n",
    "segmento.find_element_by_xpath('//div[@class=\"departure\"]/span[@class=\"ground-point-name\"]/abbr').text"
   ]
  },
  {
   "cell_type": "code",
   "execution_count": 286,
   "metadata": {},
   "outputs": [
    {
     "data": {
      "text/plain": [
       "'03:55'"
      ]
     },
     "execution_count": 286,
     "metadata": {},
     "output_type": "execute_result"
    }
   ],
   "source": [
    " # Hora de Salida\n",
    "segmento.find_element_by_xpath('//div[@class=\"departure\"]/time').get_attribute('datetime')"
   ]
  },
  {
   "cell_type": "code",
   "execution_count": 287,
   "metadata": {},
   "outputs": [
    {
     "data": {
      "text/plain": [
       "'MEX'"
      ]
     },
     "execution_count": 287,
     "metadata": {},
     "output_type": "execute_result"
    }
   ],
   "source": [
    "# Destino\n",
    "segmento.find_element_by_xpath('//div[@class=\"arrival\"]/span[@class=\"ground-point-name\"]/abbr').text"
   ]
  },
  {
   "cell_type": "code",
   "execution_count": 288,
   "metadata": {},
   "outputs": [
    {
     "data": {
      "text/plain": [
       "'13:55'"
      ]
     },
     "execution_count": 288,
     "metadata": {},
     "output_type": "execute_result"
    }
   ],
   "source": [
    "# Hora de Llegada\n",
    "segmento.find_element_by_xpath('//div[@class=\"arrival\"]/time').get_attribute('datetime')"
   ]
  },
  {
   "cell_type": "code",
   "execution_count": 289,
   "metadata": {},
   "outputs": [
    {
     "data": {
      "text/plain": [
       "'PT13H'"
      ]
     },
     "execution_count": 289,
     "metadata": {},
     "output_type": "execute_result"
    }
   ],
   "source": [
    " # Duracion del vuelo\n",
    "segmento.find_element_by_xpath('//div[@class=\"flight-summary with-duration\"]//span[@class=\"duration\"]/time').get_attribute(\"datetime\")"
   ]
  },
  {
   "cell_type": "code",
   "execution_count": null,
   "metadata": {},
   "outputs": [],
   "source": [
    "# Numero del vuelo\n",
    "segmento.find_element_by_xpath('//div[@class=\"airline-flight-details\"]/b').text  "
   ]
  },
  {
   "cell_type": "code",
   "execution_count": 299,
   "metadata": {},
   "outputs": [
    {
     "data": {
      "text/plain": [
       "'Airbus 320-200'"
      ]
     },
     "execution_count": 299,
     "metadata": {},
     "output_type": "execute_result"
    }
   ],
   "source": [
    "# Modelo delavion\n",
    "segmento.find_element_by_xpath('//div[@class=\"airline-flight-details\"]/span[@class=\"sc-gzOgki uTyOl\"]').text  "
   ]
  },
  {
   "cell_type": "code",
   "execution_count": 107,
   "metadata": {},
   "outputs": [],
   "source": [
    "# Cerrar el boton\n",
    "driver.find_element_by_xpath('//div[@class=\"modal-content sc-iwsKbI eHVGAN\"]//button[@class=\"close\"]').click()"
   ]
  },
  {
   "cell_type": "markdown",
   "metadata": {},
   "source": [
    "#### Tarifas"
   ]
  },
  {
   "cell_type": "code",
   "execution_count": 198,
   "metadata": {},
   "outputs": [
    {
     "ename": "ElementClickInterceptedException",
     "evalue": "Message: element click intercepted: Element <li class=\"flight\">...</li> is not clickable at point (768, 45). Other element would receive the click: <div class=\"modal-header sc-dnqmqq cGfTsx\">...</div>\n  (Session info: chrome=83.0.4103.106)\n",
     "output_type": "error",
     "traceback": [
      "\u001b[1;31m---------------------------------------------------------------------------\u001b[0m",
      "\u001b[1;31mElementClickInterceptedException\u001b[0m          Traceback (most recent call last)",
      "\u001b[1;32m<ipython-input-198-4506d07aad0b>\u001b[0m in \u001b[0;36m<module>\u001b[1;34m\u001b[0m\n\u001b[1;32m----> 1\u001b[1;33m \u001b[0mvuelo\u001b[0m\u001b[1;33m.\u001b[0m\u001b[0mclick\u001b[0m\u001b[1;33m(\u001b[0m\u001b[1;33m)\u001b[0m\u001b[1;33m\u001b[0m\u001b[1;33m\u001b[0m\u001b[0m\n\u001b[0m",
      "\u001b[1;32mc:\\python37\\lib\\site-packages\\selenium\\webdriver\\remote\\webelement.py\u001b[0m in \u001b[0;36mclick\u001b[1;34m(self)\u001b[0m\n\u001b[0;32m     78\u001b[0m     \u001b[1;32mdef\u001b[0m \u001b[0mclick\u001b[0m\u001b[1;33m(\u001b[0m\u001b[0mself\u001b[0m\u001b[1;33m)\u001b[0m\u001b[1;33m:\u001b[0m\u001b[1;33m\u001b[0m\u001b[1;33m\u001b[0m\u001b[0m\n\u001b[0;32m     79\u001b[0m         \u001b[1;34m\"\"\"Clicks the element.\"\"\"\u001b[0m\u001b[1;33m\u001b[0m\u001b[1;33m\u001b[0m\u001b[0m\n\u001b[1;32m---> 80\u001b[1;33m         \u001b[0mself\u001b[0m\u001b[1;33m.\u001b[0m\u001b[0m_execute\u001b[0m\u001b[1;33m(\u001b[0m\u001b[0mCommand\u001b[0m\u001b[1;33m.\u001b[0m\u001b[0mCLICK_ELEMENT\u001b[0m\u001b[1;33m)\u001b[0m\u001b[1;33m\u001b[0m\u001b[1;33m\u001b[0m\u001b[0m\n\u001b[0m\u001b[0;32m     81\u001b[0m \u001b[1;33m\u001b[0m\u001b[0m\n\u001b[0;32m     82\u001b[0m     \u001b[1;32mdef\u001b[0m \u001b[0msubmit\u001b[0m\u001b[1;33m(\u001b[0m\u001b[0mself\u001b[0m\u001b[1;33m)\u001b[0m\u001b[1;33m:\u001b[0m\u001b[1;33m\u001b[0m\u001b[1;33m\u001b[0m\u001b[0m\n",
      "\u001b[1;32mc:\\python37\\lib\\site-packages\\selenium\\webdriver\\remote\\webelement.py\u001b[0m in \u001b[0;36m_execute\u001b[1;34m(self, command, params)\u001b[0m\n\u001b[0;32m    631\u001b[0m             \u001b[0mparams\u001b[0m \u001b[1;33m=\u001b[0m \u001b[1;33m{\u001b[0m\u001b[1;33m}\u001b[0m\u001b[1;33m\u001b[0m\u001b[1;33m\u001b[0m\u001b[0m\n\u001b[0;32m    632\u001b[0m         \u001b[0mparams\u001b[0m\u001b[1;33m[\u001b[0m\u001b[1;34m'id'\u001b[0m\u001b[1;33m]\u001b[0m \u001b[1;33m=\u001b[0m \u001b[0mself\u001b[0m\u001b[1;33m.\u001b[0m\u001b[0m_id\u001b[0m\u001b[1;33m\u001b[0m\u001b[1;33m\u001b[0m\u001b[0m\n\u001b[1;32m--> 633\u001b[1;33m         \u001b[1;32mreturn\u001b[0m \u001b[0mself\u001b[0m\u001b[1;33m.\u001b[0m\u001b[0m_parent\u001b[0m\u001b[1;33m.\u001b[0m\u001b[0mexecute\u001b[0m\u001b[1;33m(\u001b[0m\u001b[0mcommand\u001b[0m\u001b[1;33m,\u001b[0m \u001b[0mparams\u001b[0m\u001b[1;33m)\u001b[0m\u001b[1;33m\u001b[0m\u001b[1;33m\u001b[0m\u001b[0m\n\u001b[0m\u001b[0;32m    634\u001b[0m \u001b[1;33m\u001b[0m\u001b[0m\n\u001b[0;32m    635\u001b[0m     \u001b[1;32mdef\u001b[0m \u001b[0mfind_element\u001b[0m\u001b[1;33m(\u001b[0m\u001b[0mself\u001b[0m\u001b[1;33m,\u001b[0m \u001b[0mby\u001b[0m\u001b[1;33m=\u001b[0m\u001b[0mBy\u001b[0m\u001b[1;33m.\u001b[0m\u001b[0mID\u001b[0m\u001b[1;33m,\u001b[0m \u001b[0mvalue\u001b[0m\u001b[1;33m=\u001b[0m\u001b[1;32mNone\u001b[0m\u001b[1;33m)\u001b[0m\u001b[1;33m:\u001b[0m\u001b[1;33m\u001b[0m\u001b[1;33m\u001b[0m\u001b[0m\n",
      "\u001b[1;32mc:\\python37\\lib\\site-packages\\selenium\\webdriver\\remote\\webdriver.py\u001b[0m in \u001b[0;36mexecute\u001b[1;34m(self, driver_command, params)\u001b[0m\n\u001b[0;32m    319\u001b[0m         \u001b[0mresponse\u001b[0m \u001b[1;33m=\u001b[0m \u001b[0mself\u001b[0m\u001b[1;33m.\u001b[0m\u001b[0mcommand_executor\u001b[0m\u001b[1;33m.\u001b[0m\u001b[0mexecute\u001b[0m\u001b[1;33m(\u001b[0m\u001b[0mdriver_command\u001b[0m\u001b[1;33m,\u001b[0m \u001b[0mparams\u001b[0m\u001b[1;33m)\u001b[0m\u001b[1;33m\u001b[0m\u001b[1;33m\u001b[0m\u001b[0m\n\u001b[0;32m    320\u001b[0m         \u001b[1;32mif\u001b[0m \u001b[0mresponse\u001b[0m\u001b[1;33m:\u001b[0m\u001b[1;33m\u001b[0m\u001b[1;33m\u001b[0m\u001b[0m\n\u001b[1;32m--> 321\u001b[1;33m             \u001b[0mself\u001b[0m\u001b[1;33m.\u001b[0m\u001b[0merror_handler\u001b[0m\u001b[1;33m.\u001b[0m\u001b[0mcheck_response\u001b[0m\u001b[1;33m(\u001b[0m\u001b[0mresponse\u001b[0m\u001b[1;33m)\u001b[0m\u001b[1;33m\u001b[0m\u001b[1;33m\u001b[0m\u001b[0m\n\u001b[0m\u001b[0;32m    322\u001b[0m             response['value'] = self._unwrap_value(\n\u001b[0;32m    323\u001b[0m                 response.get('value', None))\n",
      "\u001b[1;32mc:\\python37\\lib\\site-packages\\selenium\\webdriver\\remote\\errorhandler.py\u001b[0m in \u001b[0;36mcheck_response\u001b[1;34m(self, response)\u001b[0m\n\u001b[0;32m    240\u001b[0m                 \u001b[0malert_text\u001b[0m \u001b[1;33m=\u001b[0m \u001b[0mvalue\u001b[0m\u001b[1;33m[\u001b[0m\u001b[1;34m'alert'\u001b[0m\u001b[1;33m]\u001b[0m\u001b[1;33m.\u001b[0m\u001b[0mget\u001b[0m\u001b[1;33m(\u001b[0m\u001b[1;34m'text'\u001b[0m\u001b[1;33m)\u001b[0m\u001b[1;33m\u001b[0m\u001b[1;33m\u001b[0m\u001b[0m\n\u001b[0;32m    241\u001b[0m             \u001b[1;32mraise\u001b[0m \u001b[0mexception_class\u001b[0m\u001b[1;33m(\u001b[0m\u001b[0mmessage\u001b[0m\u001b[1;33m,\u001b[0m \u001b[0mscreen\u001b[0m\u001b[1;33m,\u001b[0m \u001b[0mstacktrace\u001b[0m\u001b[1;33m,\u001b[0m \u001b[0malert_text\u001b[0m\u001b[1;33m)\u001b[0m\u001b[1;33m\u001b[0m\u001b[1;33m\u001b[0m\u001b[0m\n\u001b[1;32m--> 242\u001b[1;33m         \u001b[1;32mraise\u001b[0m \u001b[0mexception_class\u001b[0m\u001b[1;33m(\u001b[0m\u001b[0mmessage\u001b[0m\u001b[1;33m,\u001b[0m \u001b[0mscreen\u001b[0m\u001b[1;33m,\u001b[0m \u001b[0mstacktrace\u001b[0m\u001b[1;33m)\u001b[0m\u001b[1;33m\u001b[0m\u001b[1;33m\u001b[0m\u001b[0m\n\u001b[0m\u001b[0;32m    243\u001b[0m \u001b[1;33m\u001b[0m\u001b[0m\n\u001b[0;32m    244\u001b[0m     \u001b[1;32mdef\u001b[0m \u001b[0m_value_or_default\u001b[0m\u001b[1;33m(\u001b[0m\u001b[0mself\u001b[0m\u001b[1;33m,\u001b[0m \u001b[0mobj\u001b[0m\u001b[1;33m,\u001b[0m \u001b[0mkey\u001b[0m\u001b[1;33m,\u001b[0m \u001b[0mdefault\u001b[0m\u001b[1;33m)\u001b[0m\u001b[1;33m:\u001b[0m\u001b[1;33m\u001b[0m\u001b[1;33m\u001b[0m\u001b[0m\n",
      "\u001b[1;31mElementClickInterceptedException\u001b[0m: Message: element click intercepted: Element <li class=\"flight\">...</li> is not clickable at point (768, 45). Other element would receive the click: <div class=\"modal-header sc-dnqmqq cGfTsx\">...</div>\n  (Session info: chrome=83.0.4103.106)\n"
     ]
    }
   ],
   "source": [
    "vuelo.click()"
   ]
  },
  {
   "cell_type": "code",
   "execution_count": 131,
   "metadata": {},
   "outputs": [
    {
     "data": {
      "text/plain": [
       "[<selenium.webdriver.remote.webelement.WebElement (session=\"49c00cde54d6dd48a1cee683922dea53\", element=\"8b3e015e-83f2-4979-9db1-9c522a02ec58\")>,\n",
       " <selenium.webdriver.remote.webelement.WebElement (session=\"49c00cde54d6dd48a1cee683922dea53\", element=\"7f4b7170-4ad6-4c1e-9672-0747ae2b8688\")>,\n",
       " <selenium.webdriver.remote.webelement.WebElement (session=\"49c00cde54d6dd48a1cee683922dea53\", element=\"55f8b849-f90b-4d7b-8454-5ca4fe1e434a\")>,\n",
       " <selenium.webdriver.remote.webelement.WebElement (session=\"49c00cde54d6dd48a1cee683922dea53\", element=\"8ab8a565-0536-465a-9a31-2e314f52d671\")>]"
      ]
     },
     "execution_count": 131,
     "metadata": {},
     "output_type": "execute_result"
    }
   ],
   "source": [
    "tarifas = vuelo.find_elements_by_xpath('.//table[@class=\"fare-options-table\"]//tfoot//td[contains(@class, \"fare-\")]')\n",
    "tarifas"
   ]
  },
  {
   "cell_type": "code",
   "execution_count": 137,
   "metadata": {},
   "outputs": [
    {
     "name": "stdout",
     "output_type": "stream",
     "text": [
      "{'PROMO': {'moneda': 'ARS', 'valor': '23.068,35'}}\n",
      "{'LIGHT': {'moneda': 'ARS', 'valor': '23.825,29'}}\n",
      "{'PLUS': {'moneda': 'ARS', 'valor': '25.068,55'}}\n",
      "{'TOP': {'moneda': 'ARS', 'valor': '51.831,11'}}\n"
     ]
    }
   ],
   "source": [
    "precios = []\n",
    "for tarifa in tarifas:\n",
    "    nombre = tarifa.find_element_by_xpath('.//label').get_attribute('for')\n",
    "    moneda =  tarifa.find_element_by_xpath('.//span[@class=\"price\"]/span[@class=\"currency-symbol\"]').text\n",
    "    valor =  tarifa.find_element_by_xpath('.//span[@class=\"price\"]/span[@class=\"value\"]').text\n",
    "    dict_tarifa={nombre:{'moneda':moneda, 'valor':valor}}\n",
    "    precios.append(dict_tarifa)\n",
    "    \n",
    "    print(dict_tarifa)"
   ]
  },
  {
   "cell_type": "code",
   "execution_count": 44,
   "metadata": {},
   "outputs": [],
   "source": [
    "def obtener_precios(vuelo):\n",
    "    '''\n",
    "    Funcion que retorna una lista de diccionarios con las distintas tarifas\n",
    "    '''\n",
    "    tarifas = vuelo.find_elements_by_xpath('.//table[@class=\"fare-options-table\"]//tfoot//td[contains(@class, \"fare-\")]')\n",
    "    precios = []\n",
    "    for tarifa in tarifas:\n",
    "        nombre = tarifa.find_element_by_xpath('.//label').get_attribute('for')\n",
    "        moneda =  tarifa.find_element_by_xpath('.//span[@class=\"price\"]/span[@class=\"currency-symbol\"]').text\n",
    "        valor =  tarifa.find_element_by_xpath('.//span[@class=\"price\"]/span[@class=\"value\"]').text\n",
    "        dict_tarifa={nombre:{'moneda':moneda, 'valor':valor}}\n",
    "        precios.append(dict_tarifa)\n",
    "\n",
    "    return precios"
   ]
  },
  {
   "cell_type": "code",
   "execution_count": 45,
   "metadata": {},
   "outputs": [],
   "source": [
    "def obtener_datos_escalas(vuelo):\n",
    "    '''\n",
    "    Funcion que retorna una lista de diccionarios con la informacion de las escalas de cada vuelo\n",
    "    '''\n",
    "#     element = WebDriverWait(driver, 10).until(lambda x: x.find_element_by_xpath('//div[@class=\"sc-hZSUBg gfeULV\"]/div[@class=\"sc-cLQEGU hyoued\"]'))\n",
    "    segmentos = vuelo.find_elements_by_xpath('//div[@class=\"sc-hZSUBg gfeULV\"]/div[@class=\"sc-cLQEGU hyoued\"]')\n",
    "    info_escalas = []\n",
    "    \n",
    "    for segmento in segmentos:\n",
    "        # Lugar Salida\n",
    "        origen = segmento.find_element_by_xpath('//div[@class=\"departure\"]/span[@class=\"ground-point-name\"]/abbr').text\n",
    "        # Hora de Salida\n",
    "        hora_salida = segmento.find_element_by_xpath('//div[@class=\"departure\"]/time').get_attribute('datetime')\n",
    "        # Destino\n",
    "        destino = segmento.find_element_by_xpath('//div[@class=\"arrival\"]/span[@class=\"ground-point-name\"]/abbr').text\n",
    "        # Hora de Llegada\n",
    "        hora_llegada = segmento.find_element_by_xpath('//div[@class=\"arrival\"]/time').get_attribute('datetime')\n",
    "        # Duracion del vuelo\n",
    "        duracion_vuelo = segmento.find_element_by_xpath('//div[@class=\"flight-summary with-duration\"]//span[@class=\"duration\"]/time').get_attribute(\"datetime\")\n",
    "        # Numero del vuelo\n",
    "        numero_vuelo = segmento.find_element_by_xpath('//div[@class=\"airline-flight-details\"]/b').text  \n",
    "        # Modelo delavion\n",
    "        modelo_avion = segmento.find_element_by_xpath('//div[@class=\"airline-flight-details\"]/span[@class=\"sc-gzOgki uTyOl\"]').text  \n",
    "       \n",
    "        data_dict={\n",
    "            'origen': origen,\n",
    "            'hora_salida': hora_salida, \n",
    "            'destino': destino, \n",
    "            'hora_llegada': hora_llegada, \n",
    "            'duracion_vuelo': duracion_vuelo, \n",
    "            'numero_vuelo': numero_vuelo, \n",
    "            'modelo_avion': modelo_avion}\n",
    "        \n",
    "        info_escalas.append(data_dict)\n",
    "        \n",
    "    return info_escalas\n",
    "    "
   ]
  },
  {
   "cell_type": "code",
   "execution_count": 46,
   "metadata": {},
   "outputs": [],
   "source": [
    "def obtener_tiempos(vuelo):\n",
    "    '''\n",
    "    Función que retorna un diccionario con los horarios de salida y llegada de cada\n",
    "    vuelo, incluyendo la duración. \n",
    "    Nota: la duración del vuelo no es la hora de llegada - la hora de salida porque\n",
    "    puede haber diferencia de horarios entre el origen y el destino.o\n",
    "    '''\n",
    "    salida = vuelo.find_element_by_xpath('.//div[@class=\"departure\"]/time').get_attribute('datetime')\n",
    "    \n",
    "    # Hora de llegada\n",
    "    llegada =  vuelo.find_element_by_xpath('.//div[@class=\"arrival\"]/time').get_attribute('datetime')\n",
    "    \n",
    "    # Duracion\n",
    "    duracion = vuelo.find_element_by_xpath('.//span[@class=\"duration\"]/time').get_attribute('datetime')\n",
    "    \n",
    "    tiempos = {'hora_salida': salida, 'hora_llegada': llegada, 'duracion': duracion}\n",
    "    return tiempos\n",
    "    \n",
    "    \n",
    "    return info_escalas"
   ]
  },
  {
   "cell_type": "code",
   "execution_count": 72,
   "metadata": {},
   "outputs": [],
   "source": [
    "def obtener_info(driver):\n",
    "    delay = 5\n",
    "    #cerrar ventana emergente innecesaria que impide siguiente paso\n",
    "    element = WebDriverWait(driver, delay).until(lambda x: x.find_element_by_xpath('//div[@class=\"sc-eMigcr sc-fzsDOv frHDWQ\"]//button[@class=\"close\"]'))\n",
    "    driver.find_element_by_xpath('//div[@class=\"sc-eMigcr sc-fzsDOv frHDWQ\"]//button[@class=\"close\"]').click()\n",
    "        \n",
    "#     element = WebDriverWait(driver, delay).until(lambda x: x.find_element_by_xpath('//li[@class=\"flight\"]'))\n",
    "    vuelos = driver.find_elements_by_xpath('//li[@class=\"flight\"]')\n",
    "    print(f'Se encontraron{len(vuelos)} vuelos.')\n",
    "    print('iniciando Scraping...')\n",
    "    info=[]\n",
    "    \n",
    "    \n",
    "    for vuelo in vuelos:\n",
    "        #obtener tiempo generales\n",
    "        tiempos = obtener_tiempos(vuelo)\n",
    "        #clickeamos sobre el boton de las escalas       \n",
    "        vuelo.find_element_by_xpath('.//div[@class=\"flight-summary-stops-description\"]/button').click()\n",
    "        escalas=obtener_datos_escalas(vuelo)\n",
    "        #cerramos el modelos\n",
    "        driver.find_element_by_xpath('//div[@class=\"modal-content sc-iwsKbI eHVGAN\"]//button[@class=\"close\"]').click()\n",
    "        #clickeamos el vuelo para ver los precios\n",
    "        vuelo.click()\n",
    "        precios=obtener_precios(vuelo)\n",
    "        vuelo.click()\n",
    "        info.append({'precios':precios,'tiempo':tiempos, 'escalas':escalas})\n",
    "    return info\n",
    "        \n"
   ]
  },
  {
   "cell_type": "code",
   "execution_count": 73,
   "metadata": {},
   "outputs": [],
   "source": [
    "import time"
   ]
  },
  {
   "cell_type": "markdown",
   "metadata": {},
   "source": [
    "#### Demoras dinamicas"
   ]
  },
  {
   "cell_type": "code",
   "execution_count": 74,
   "metadata": {},
   "outputs": [],
   "source": [
    "from selenium.webdriver.support.ui import WebDriverWait\n",
    "from selenium.webdriver.support import expected_conditions as EC\n",
    "from selenium.webdriver.common.by import By\n",
    "from selenium.common.exceptions import TimeoutException"
   ]
  },
  {
   "cell_type": "code",
   "execution_count": 76,
   "metadata": {},
   "outputs": [
    {
     "name": "stdout",
     "output_type": "stream",
     "text": [
      "La pagina tardo demasiado en cargar\n",
      "Se encontraron18 vuelos.\n",
      "iniciando Scraping...\n"
     ]
    },
    {
     "data": {
      "text/plain": [
       "[{'precios': [{'PROMO': {'moneda': '', 'valor': ''}},\n",
       "   {'LIGHT': {'moneda': 'ARS', 'valor': '23.825,29'}},\n",
       "   {'PLUS': {'moneda': 'ARS', 'valor': '25.068,55'}},\n",
       "   {'TOP': {'moneda': 'ARS', 'valor': '51.831,11'}}],\n",
       "  'tiempo': {'hora_salida': '03:55',\n",
       "   'hora_llegada': '13:55',\n",
       "   'duracion': 'PT13H'},\n",
       "  'escalas': [{'origen': 'EZE',\n",
       "    'hora_salida': '03:55',\n",
       "    'destino': 'MEX',\n",
       "    'hora_llegada': '13:55',\n",
       "    'duracion_vuelo': 'PT13H',\n",
       "    'numero_vuelo': 'LA8010',\n",
       "    'modelo_avion': 'Airbus 320-200'},\n",
       "   {'origen': 'EZE',\n",
       "    'hora_salida': '03:55',\n",
       "    'destino': 'MEX',\n",
       "    'hora_llegada': '13:55',\n",
       "    'duracion_vuelo': 'PT13H',\n",
       "    'numero_vuelo': 'LA8010',\n",
       "    'modelo_avion': 'Airbus 320-200'}]},\n",
       " {'precios': [{'PROMO': {'moneda': '', 'valor': ''}},\n",
       "   {'LIGHT': {'moneda': 'ARS', 'valor': '23.825,29'}},\n",
       "   {'PLUS': {'moneda': 'ARS', 'valor': '25.068,55'}},\n",
       "   {'TOP': {'moneda': 'ARS', 'valor': '51.831,11'}}],\n",
       "  'tiempo': {'hora_salida': '18:35',\n",
       "   'hora_llegada': '05:30',\n",
       "   'duracion': 'PT13H55M'},\n",
       "  'escalas': [{'origen': 'EZE',\n",
       "    'hora_salida': '03:55',\n",
       "    'destino': 'MEX',\n",
       "    'hora_llegada': '13:55',\n",
       "    'duracion_vuelo': 'PT13H',\n",
       "    'numero_vuelo': 'LA452',\n",
       "    'modelo_avion': 'Airbus 320-200'},\n",
       "   {'origen': 'EZE',\n",
       "    'hora_salida': '03:55',\n",
       "    'destino': 'MEX',\n",
       "    'hora_llegada': '13:55',\n",
       "    'duracion_vuelo': 'PT13H',\n",
       "    'numero_vuelo': 'LA452',\n",
       "    'modelo_avion': 'Airbus 320-200'}]},\n",
       " {'precios': [{'PROMO': {'moneda': '', 'valor': ''}},\n",
       "   {'LIGHT': {'moneda': '', 'valor': '23.825,29'}},\n",
       "   {'PLUS': {'moneda': 'ARS', 'valor': '25.068,55'}},\n",
       "   {'TOP': {'moneda': 'ARS', 'valor': '51.831,11'}}],\n",
       "  'tiempo': {'hora_salida': '18:20',\n",
       "   'hora_llegada': '05:30',\n",
       "   'duracion': 'PT14H10M'},\n",
       "  'escalas': [{'origen': '',\n",
       "    'hora_salida': '03:55',\n",
       "    'destino': '',\n",
       "    'hora_llegada': '13:55',\n",
       "    'duracion_vuelo': 'PT13H',\n",
       "    'numero_vuelo': 'LA532',\n",
       "    'modelo_avion': 'Boeing 787-9'},\n",
       "   {'origen': '',\n",
       "    'hora_salida': '03:55',\n",
       "    'destino': '',\n",
       "    'hora_llegada': '13:55',\n",
       "    'duracion_vuelo': 'PT13H',\n",
       "    'numero_vuelo': 'LA532',\n",
       "    'modelo_avion': 'Boeing 787-9'}]},\n",
       " {'precios': [{'PROMO': {'moneda': '', 'valor': ''}},\n",
       "   {'LIGHT': {'moneda': '', 'valor': '23.825,29'}},\n",
       "   {'PLUS': {'moneda': 'ARS', 'valor': '25.068,55'}},\n",
       "   {'TOP': {'moneda': 'ARS', 'valor': '51.831,11'}}],\n",
       "  'tiempo': {'hora_salida': '18:00',\n",
       "   'hora_llegada': '05:30',\n",
       "   'duracion': 'PT14H30M'},\n",
       "  'escalas': [{'origen': '',\n",
       "    'hora_salida': '03:55',\n",
       "    'destino': '',\n",
       "    'hora_llegada': '13:55',\n",
       "    'duracion_vuelo': 'PT13H',\n",
       "    'numero_vuelo': 'LA8013',\n",
       "    'modelo_avion': 'Airbus 320-200'},\n",
       "   {'origen': '',\n",
       "    'hora_salida': '03:55',\n",
       "    'destino': '',\n",
       "    'hora_llegada': '13:55',\n",
       "    'duracion_vuelo': 'PT13H',\n",
       "    'numero_vuelo': 'LA8013',\n",
       "    'modelo_avion': 'Airbus 320-200'}]},\n",
       " {'precios': [{'PROMO': {'moneda': '', 'valor': '23.068,35'}},\n",
       "   {'LIGHT': {'moneda': 'ARS', 'valor': '23.825,29'}},\n",
       "   {'PLUS': {'moneda': 'ARS', 'valor': '25.068,55'}},\n",
       "   {'TOP': {'moneda': 'ARS', 'valor': '51.831,11'}}],\n",
       "  'tiempo': {'hora_salida': '15:35',\n",
       "   'hora_llegada': '05:30',\n",
       "   'duracion': 'PT16H55M'},\n",
       "  'escalas': [{'origen': '',\n",
       "    'hora_salida': '03:55',\n",
       "    'destino': '',\n",
       "    'hora_llegada': '13:55',\n",
       "    'duracion_vuelo': 'PT13H',\n",
       "    'numero_vuelo': 'LA8011',\n",
       "    'modelo_avion': 'Airbus 320-200'},\n",
       "   {'origen': '',\n",
       "    'hora_salida': '03:55',\n",
       "    'destino': '',\n",
       "    'hora_llegada': '13:55',\n",
       "    'duracion_vuelo': 'PT13H',\n",
       "    'numero_vuelo': 'LA8011',\n",
       "    'modelo_avion': 'Airbus 320-200'}]},\n",
       " {'precios': [{'PROMO': {'moneda': '', 'valor': ''}},\n",
       "   {'LIGHT': {'moneda': '', 'valor': '23.825,29'}},\n",
       "   {'PLUS': {'moneda': 'ARS', 'valor': '25.068,55'}},\n",
       "   {'TOP': {'moneda': 'ARS', 'valor': '51.831,11'}}],\n",
       "  'tiempo': {'hora_salida': '12:35',\n",
       "   'hora_llegada': '05:30',\n",
       "   'duracion': 'PT19H55M'},\n",
       "  'escalas': [{'origen': '',\n",
       "    'hora_salida': '03:55',\n",
       "    'destino': '',\n",
       "    'hora_llegada': '13:55',\n",
       "    'duracion_vuelo': 'PT13H',\n",
       "    'numero_vuelo': 'LA8009',\n",
       "    'modelo_avion': 'Airbus 320-200'},\n",
       "   {'origen': '',\n",
       "    'hora_salida': '03:55',\n",
       "    'destino': '',\n",
       "    'hora_llegada': '13:55',\n",
       "    'duracion_vuelo': 'PT13H',\n",
       "    'numero_vuelo': 'LA8009',\n",
       "    'modelo_avion': 'Airbus 320-200'}]},\n",
       " {'precios': [{'PROMO': {'moneda': '', 'valor': ''}},\n",
       "   {'LIGHT': {'moneda': 'ARS', 'valor': '23.825,29'}},\n",
       "   {'PLUS': {'moneda': 'ARS', 'valor': '25.068,55'}},\n",
       "   {'TOP': {'moneda': 'ARS', 'valor': '51.831,11'}}],\n",
       "  'tiempo': {'hora_salida': '20:08',\n",
       "   'hora_llegada': '13:55',\n",
       "   'duracion': 'PT20H47M'},\n",
       "  'escalas': [{'origen': '',\n",
       "    'hora_salida': '03:55',\n",
       "    'destino': '',\n",
       "    'hora_llegada': '13:55',\n",
       "    'duracion_vuelo': 'PT13H',\n",
       "    'numero_vuelo': 'LA2468',\n",
       "    'modelo_avion': 'Airbus 320-200'},\n",
       "   {'origen': '',\n",
       "    'hora_salida': '03:55',\n",
       "    'destino': '',\n",
       "    'hora_llegada': '13:55',\n",
       "    'duracion_vuelo': 'PT13H',\n",
       "    'numero_vuelo': 'LA2468',\n",
       "    'modelo_avion': 'Airbus 320-200'}]},\n",
       " {'precios': [{'PROMO': {'moneda': '', 'valor': ''}},\n",
       "   {'LIGHT': {'moneda': '', 'valor': '23.825,29'}},\n",
       "   {'PLUS': {'moneda': 'ARS', 'valor': '25.068,55'}},\n",
       "   {'TOP': {'moneda': 'ARS', 'valor': '51.831,11'}}],\n",
       "  'tiempo': {'hora_salida': '11:40',\n",
       "   'hora_llegada': '05:30',\n",
       "   'duracion': 'PT20H50M'},\n",
       "  'escalas': [{'origen': '',\n",
       "    'hora_salida': '03:55',\n",
       "    'destino': '',\n",
       "    'hora_llegada': '13:55',\n",
       "    'duracion_vuelo': 'PT13H',\n",
       "    'numero_vuelo': 'LA450',\n",
       "    'modelo_avion': 'Airbus 320-200'},\n",
       "   {'origen': '',\n",
       "    'hora_salida': '03:55',\n",
       "    'destino': '',\n",
       "    'hora_llegada': '13:55',\n",
       "    'duracion_vuelo': 'PT13H',\n",
       "    'numero_vuelo': 'LA450',\n",
       "    'modelo_avion': 'Airbus 320-200'}]},\n",
       " {'precios': [{'PROMO': {'moneda': '', 'valor': '23.068,35'}},\n",
       "   {'LIGHT': {'moneda': 'ARS', 'valor': '23.825,29'}},\n",
       "   {'PLUS': {'moneda': 'ARS', 'valor': '25.068,55'}},\n",
       "   {'TOP': {'moneda': 'ARS', 'valor': '51.831,11'}}],\n",
       "  'tiempo': {'hora_salida': '08:15',\n",
       "   'hora_llegada': '05:30',\n",
       "   'duracion': 'PT24H15M'},\n",
       "  'escalas': [{'origen': '',\n",
       "    'hora_salida': '03:55',\n",
       "    'destino': '',\n",
       "    'hora_llegada': '13:55',\n",
       "    'duracion_vuelo': 'PT13H',\n",
       "    'numero_vuelo': 'LA8015',\n",
       "    'modelo_avion': 'Airbus 320-200'},\n",
       "   {'origen': '',\n",
       "    'hora_salida': '03:55',\n",
       "    'destino': '',\n",
       "    'hora_llegada': '13:55',\n",
       "    'duracion_vuelo': 'PT13H',\n",
       "    'numero_vuelo': 'LA8015',\n",
       "    'modelo_avion': 'Airbus 320-200'}]},\n",
       " {'precios': [{'PROMO': {'moneda': '', 'valor': ''}},\n",
       "   {'LIGHT': {'moneda': '', 'valor': '23.825,29'}},\n",
       "   {'PLUS': {'moneda': 'ARS', 'valor': '25.068,55'}},\n",
       "   {'TOP': {'moneda': 'ARS', 'valor': '51.831,11'}}],\n",
       "  'tiempo': {'hora_salida': '21:01',\n",
       "   'hora_llegada': '13:55',\n",
       "   'duracion': 'PT19H54M'},\n",
       "  'escalas': [{'origen': '',\n",
       "    'hora_salida': '03:55',\n",
       "    'destino': '',\n",
       "    'hora_llegada': '13:55',\n",
       "    'duracion_vuelo': 'PT13H',\n",
       "    'numero_vuelo': 'LA458',\n",
       "    'modelo_avion': 'Airbus 320-200'},\n",
       "   {'origen': '',\n",
       "    'hora_salida': '03:55',\n",
       "    'destino': '',\n",
       "    'hora_llegada': '13:55',\n",
       "    'duracion_vuelo': 'PT13H',\n",
       "    'numero_vuelo': 'LA458',\n",
       "    'modelo_avion': 'Airbus 320-200'},\n",
       "   {'origen': '',\n",
       "    'hora_salida': '03:55',\n",
       "    'destino': '',\n",
       "    'hora_llegada': '13:55',\n",
       "    'duracion_vuelo': 'PT13H',\n",
       "    'numero_vuelo': 'LA458',\n",
       "    'modelo_avion': 'Airbus 320-200'}]},\n",
       " {'precios': [{'PROMO': {'moneda': '', 'valor': ''}},\n",
       "   {'LIGHT': {'moneda': '', 'valor': '23.825,29'}},\n",
       "   {'PLUS': {'moneda': 'ARS', 'valor': '25.068,55'}},\n",
       "   {'TOP': {'moneda': 'ARS', 'valor': '51.831,11'}}],\n",
       "  'tiempo': {'hora_salida': '21:01',\n",
       "   'hora_llegada': '13:55',\n",
       "   'duracion': 'PT19H54M'},\n",
       "  'escalas': [{'origen': '',\n",
       "    'hora_salida': '03:55',\n",
       "    'destino': '',\n",
       "    'hora_llegada': '13:55',\n",
       "    'duracion_vuelo': 'PT13H',\n",
       "    'numero_vuelo': 'LA458',\n",
       "    'modelo_avion': 'Airbus 320-200'},\n",
       "   {'origen': '',\n",
       "    'hora_salida': '03:55',\n",
       "    'destino': '',\n",
       "    'hora_llegada': '13:55',\n",
       "    'duracion_vuelo': 'PT13H',\n",
       "    'numero_vuelo': 'LA458',\n",
       "    'modelo_avion': 'Airbus 320-200'},\n",
       "   {'origen': '',\n",
       "    'hora_salida': '03:55',\n",
       "    'destino': '',\n",
       "    'hora_llegada': '13:55',\n",
       "    'duracion_vuelo': 'PT13H',\n",
       "    'numero_vuelo': 'LA458',\n",
       "    'modelo_avion': 'Airbus 320-200'}]},\n",
       " {'precios': [{'PROMO': {'moneda': '', 'valor': ''}},\n",
       "   {'LIGHT': {'moneda': 'ARS', 'valor': '23.825,29'}},\n",
       "   {'PLUS': {'moneda': 'ARS', 'valor': '25.068,55'}},\n",
       "   {'TOP': {'moneda': 'ARS', 'valor': '51.831,11'}}],\n",
       "  'tiempo': {'hora_salida': '18:35',\n",
       "   'hora_llegada': '13:55',\n",
       "   'duracion': 'PT22H20M'},\n",
       "  'escalas': [{'origen': '',\n",
       "    'hora_salida': '03:55',\n",
       "    'destino': '',\n",
       "    'hora_llegada': '13:55',\n",
       "    'duracion_vuelo': 'PT13H',\n",
       "    'numero_vuelo': 'LA452',\n",
       "    'modelo_avion': 'Airbus 320-200'},\n",
       "   {'origen': '',\n",
       "    'hora_salida': '03:55',\n",
       "    'destino': '',\n",
       "    'hora_llegada': '13:55',\n",
       "    'duracion_vuelo': 'PT13H',\n",
       "    'numero_vuelo': 'LA452',\n",
       "    'modelo_avion': 'Airbus 320-200'},\n",
       "   {'origen': '',\n",
       "    'hora_salida': '03:55',\n",
       "    'destino': '',\n",
       "    'hora_llegada': '13:55',\n",
       "    'duracion_vuelo': 'PT13H',\n",
       "    'numero_vuelo': 'LA452',\n",
       "    'modelo_avion': 'Airbus 320-200'}]},\n",
       " {'precios': [{'PROMO': {'moneda': '', 'valor': ''}},\n",
       "   {'LIGHT': {'moneda': '', 'valor': '23.825,29'}},\n",
       "   {'PLUS': {'moneda': 'ARS', 'valor': '25.068,55'}},\n",
       "   {'TOP': {'moneda': 'ARS', 'valor': '51.831,11'}}],\n",
       "  'tiempo': {'hora_salida': '18:35',\n",
       "   'hora_llegada': '13:55',\n",
       "   'duracion': 'PT22H20M'},\n",
       "  'escalas': [{'origen': '',\n",
       "    'hora_salida': '03:55',\n",
       "    'destino': '',\n",
       "    'hora_llegada': '13:55',\n",
       "    'duracion_vuelo': 'PT13H',\n",
       "    'numero_vuelo': 'LA452',\n",
       "    'modelo_avion': 'Airbus 320-200'},\n",
       "   {'origen': '',\n",
       "    'hora_salida': '03:55',\n",
       "    'destino': '',\n",
       "    'hora_llegada': '13:55',\n",
       "    'duracion_vuelo': 'PT13H',\n",
       "    'numero_vuelo': 'LA452',\n",
       "    'modelo_avion': 'Airbus 320-200'},\n",
       "   {'origen': '',\n",
       "    'hora_salida': '03:55',\n",
       "    'destino': '',\n",
       "    'hora_llegada': '13:55',\n",
       "    'duracion_vuelo': 'PT13H',\n",
       "    'numero_vuelo': 'LA452',\n",
       "    'modelo_avion': 'Airbus 320-200'}]},\n",
       " {'precios': [{'PROMO': {'moneda': '', 'valor': ''}},\n",
       "   {'LIGHT': {'moneda': '', 'valor': '23.825,29'}},\n",
       "   {'PLUS': {'moneda': 'ARS', 'valor': '25.068,55'}},\n",
       "   {'TOP': {'moneda': 'ARS', 'valor': '51.831,11'}}],\n",
       "  'tiempo': {'hora_salida': '18:35',\n",
       "   'hora_llegada': '13:55',\n",
       "   'duracion': 'PT22H20M'},\n",
       "  'escalas': [{'origen': '',\n",
       "    'hora_salida': '03:55',\n",
       "    'destino': '',\n",
       "    'hora_llegada': '13:55',\n",
       "    'duracion_vuelo': 'PT13H',\n",
       "    'numero_vuelo': 'LA452',\n",
       "    'modelo_avion': 'Airbus 320-200'},\n",
       "   {'origen': '',\n",
       "    'hora_salida': '03:55',\n",
       "    'destino': '',\n",
       "    'hora_llegada': '13:55',\n",
       "    'duracion_vuelo': 'PT13H',\n",
       "    'numero_vuelo': 'LA452',\n",
       "    'modelo_avion': 'Airbus 320-200'},\n",
       "   {'origen': '',\n",
       "    'hora_salida': '03:55',\n",
       "    'destino': '',\n",
       "    'hora_llegada': '13:55',\n",
       "    'duracion_vuelo': 'PT13H',\n",
       "    'numero_vuelo': 'LA452',\n",
       "    'modelo_avion': 'Airbus 320-200'}]},\n",
       " {'precios': [{'PROMO': {'moneda': '', 'valor': ''}},\n",
       "   {'LIGHT': {'moneda': '', 'valor': '23.825,29'}},\n",
       "   {'PLUS': {'moneda': 'ARS', 'valor': '25.068,55'}},\n",
       "   {'TOP': {'moneda': 'ARS', 'valor': '51.831,11'}}],\n",
       "  'tiempo': {'hora_salida': '18:20',\n",
       "   'hora_llegada': '13:55',\n",
       "   'duracion': 'PT22H35M'},\n",
       "  'escalas': [{'origen': '',\n",
       "    'hora_salida': '03:55',\n",
       "    'destino': '',\n",
       "    'hora_llegada': '13:55',\n",
       "    'duracion_vuelo': 'PT13H',\n",
       "    'numero_vuelo': 'LA532',\n",
       "    'modelo_avion': 'Boeing 787-9'},\n",
       "   {'origen': '',\n",
       "    'hora_salida': '03:55',\n",
       "    'destino': '',\n",
       "    'hora_llegada': '13:55',\n",
       "    'duracion_vuelo': 'PT13H',\n",
       "    'numero_vuelo': 'LA532',\n",
       "    'modelo_avion': 'Boeing 787-9'},\n",
       "   {'origen': '',\n",
       "    'hora_salida': '03:55',\n",
       "    'destino': '',\n",
       "    'hora_llegada': '13:55',\n",
       "    'duracion_vuelo': 'PT13H',\n",
       "    'numero_vuelo': 'LA532',\n",
       "    'modelo_avion': 'Boeing 787-9'}]},\n",
       " {'precios': [{'PROMO': {'moneda': '', 'valor': ''}},\n",
       "   {'LIGHT': {'moneda': '', 'valor': '23.825,29'}},\n",
       "   {'PLUS': {'moneda': 'ARS', 'valor': '25.068,55'}},\n",
       "   {'TOP': {'moneda': 'ARS', 'valor': '51.831,11'}}],\n",
       "  'tiempo': {'hora_salida': '18:20',\n",
       "   'hora_llegada': '13:55',\n",
       "   'duracion': 'PT22H35M'},\n",
       "  'escalas': [{'origen': '',\n",
       "    'hora_salida': '03:55',\n",
       "    'destino': '',\n",
       "    'hora_llegada': '13:55',\n",
       "    'duracion_vuelo': 'PT13H',\n",
       "    'numero_vuelo': 'LA532',\n",
       "    'modelo_avion': 'Boeing 787-9'},\n",
       "   {'origen': '',\n",
       "    'hora_salida': '03:55',\n",
       "    'destino': '',\n",
       "    'hora_llegada': '13:55',\n",
       "    'duracion_vuelo': 'PT13H',\n",
       "    'numero_vuelo': 'LA532',\n",
       "    'modelo_avion': 'Boeing 787-9'},\n",
       "   {'origen': '',\n",
       "    'hora_salida': '03:55',\n",
       "    'destino': '',\n",
       "    'hora_llegada': '13:55',\n",
       "    'duracion_vuelo': 'PT13H',\n",
       "    'numero_vuelo': 'LA532',\n",
       "    'modelo_avion': 'Boeing 787-9'}]},\n",
       " {'precios': [{'PROMO': {'moneda': '', 'valor': ''}},\n",
       "   {'LIGHT': {'moneda': '', 'valor': '23.825,29'}},\n",
       "   {'PLUS': {'moneda': 'ARS', 'valor': '25.068,55'}},\n",
       "   {'TOP': {'moneda': 'ARS', 'valor': '51.831,11'}}],\n",
       "  'tiempo': {'hora_salida': '18:20',\n",
       "   'hora_llegada': '13:55',\n",
       "   'duracion': 'PT22H35M'},\n",
       "  'escalas': [{'origen': '',\n",
       "    'hora_salida': '03:55',\n",
       "    'destino': '',\n",
       "    'hora_llegada': '13:55',\n",
       "    'duracion_vuelo': 'PT13H',\n",
       "    'numero_vuelo': 'LA532',\n",
       "    'modelo_avion': 'Boeing 787-9'},\n",
       "   {'origen': '',\n",
       "    'hora_salida': '03:55',\n",
       "    'destino': '',\n",
       "    'hora_llegada': '13:55',\n",
       "    'duracion_vuelo': 'PT13H',\n",
       "    'numero_vuelo': 'LA532',\n",
       "    'modelo_avion': 'Boeing 787-9'},\n",
       "   {'origen': '',\n",
       "    'hora_salida': '03:55',\n",
       "    'destino': '',\n",
       "    'hora_llegada': '13:55',\n",
       "    'duracion_vuelo': 'PT13H',\n",
       "    'numero_vuelo': 'LA532',\n",
       "    'modelo_avion': 'Boeing 787-9'}]},\n",
       " {'precios': [{'LIGHT': {'moneda': '', 'valor': ''}},\n",
       "   {'PLUS': {'moneda': '', 'valor': '56.531,55'}},\n",
       "   {'TOP': {'moneda': 'ARS', 'valor': '66.132,98'}}],\n",
       "  'tiempo': {'hora_salida': '23:15',\n",
       "   'hora_llegada': '13:55',\n",
       "   'duracion': 'PT17H40M'},\n",
       "  'escalas': [{'origen': '',\n",
       "    'hora_salida': '03:55',\n",
       "    'destino': '',\n",
       "    'hora_llegada': '13:55',\n",
       "    'duracion_vuelo': 'PT13H',\n",
       "    'numero_vuelo': 'LA5296',\n",
       "    'modelo_avion': '77L'},\n",
       "   {'origen': '',\n",
       "    'hora_salida': '03:55',\n",
       "    'destino': '',\n",
       "    'hora_llegada': '13:55',\n",
       "    'duracion_vuelo': 'PT13H',\n",
       "    'numero_vuelo': 'LA5296',\n",
       "    'modelo_avion': '77L'},\n",
       "   {'origen': '',\n",
       "    'hora_salida': '03:55',\n",
       "    'destino': '',\n",
       "    'hora_llegada': '13:55',\n",
       "    'duracion_vuelo': 'PT13H',\n",
       "    'numero_vuelo': 'LA5296',\n",
       "    'modelo_avion': '77L'}]}]"
      ]
     },
     "execution_count": 76,
     "metadata": {},
     "output_type": "execute_result"
    }
   ],
   "source": [
    "url = 'https://www.latam.com/es_ar/apps/personas/booking?fecha1_dia=28&fecha1_anomes=2020-10&ida_vuelta=ida_vuelta&from_city1=EZE&to_city1=MEX&cabina=Y&nadults=1&nchildren=0&ninfants=0&fecha2_dia=01&fecha2_anomes=2020-11&application=&from_city2=MEX&to_city2=EZE#/'\n",
    "options=webdriver.ChromeOptions()\n",
    "options.add_argument('--incognito')\n",
    "driver=webdriver.Chrome(executable_path='./chromedriver.exe', options=options)\n",
    "\n",
    "# introducir una demora\n",
    "delay=5\n",
    "try:\n",
    "    #introducir una demora inteligente\n",
    "    vuelo = WebDriverWait(driver, delay).until(EC.presence_of_element_located((By.XPATH, '//li[@class=\"flight\"]')))\n",
    "    print('La pagina termino de cargar')\n",
    "    info_vuelos = obtener_info(driver)\n",
    "except TimeoutException:\n",
    "    print('La pagina tardo demasiado en cargar')\n",
    "    info_vuelos =[]\n",
    "driver.get(url)\n",
    "\n",
    "obtener_info(driver)\n",
    "#driver.close()"
   ]
  },
  {
   "cell_type": "code",
   "execution_count": 71,
   "metadata": {},
   "outputs": [],
   "source": [
    "driver.close()"
   ]
  },
  {
   "cell_type": "code",
   "execution_count": null,
   "metadata": {},
   "outputs": [],
   "source": []
  }
 ],
 "metadata": {
  "kernelspec": {
   "display_name": "Python 3",
   "language": "python",
   "name": "python3"
  },
  "language_info": {
   "codemirror_mode": {
    "name": "ipython",
    "version": 3
   },
   "file_extension": ".py",
   "mimetype": "text/x-python",
   "name": "python",
   "nbconvert_exporter": "python",
   "pygments_lexer": "ipython3",
   "version": "3.7.1"
  }
 },
 "nbformat": 4,
 "nbformat_minor": 4
}
