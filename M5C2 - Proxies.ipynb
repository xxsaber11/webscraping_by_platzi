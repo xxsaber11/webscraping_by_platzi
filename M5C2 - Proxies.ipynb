{
 "cells": [
  {
   "cell_type": "code",
   "execution_count": 50,
   "metadata": {},
   "outputs": [],
   "source": [
    "import requests\n",
    "import re"
   ]
  },
  {
   "cell_type": "code",
   "execution_count": 51,
   "metadata": {},
   "outputs": [],
   "source": [
    "def get_my_ip(url='https://cualesmiip.com/', proxies=None):\n",
    "    try:\n",
    "        r = requests.get(url=url, proxies=proxies)\n",
    "    except Exception as e:\n",
    "        print('Error haciendo la request', e)\n",
    "        return None\n",
    "    \n",
    "    if r.status_code != 200:\n",
    "        print(\"Status Code:\", r.status_code)\n",
    "        return None\n",
    "    \n",
    "    regex = re.compile(r'(\\d{1,3}\\.\\d{1,3}\\.\\d{1,3}\\.\\d{1,3})')\n",
    "    my_ip = regex.findall(r.text)\n",
    "    return my_ip[0] if my_ip else None"
   ]
  },
  {
   "cell_type": "code",
   "execution_count": 52,
   "metadata": {},
   "outputs": [
    {
     "data": {
      "text/plain": [
       "'201.97.192.220'"
      ]
     },
     "execution_count": 52,
     "metadata": {},
     "output_type": "execute_result"
    }
   ],
   "source": [
    "get_my_ip()"
   ]
  },
  {
   "cell_type": "code",
   "execution_count": 53,
   "metadata": {},
   "outputs": [],
   "source": [
    "proxy_dict = {'http':'http://68.183.124.45:8080',\n",
    "              'https':'https://68.183.124.45:8080'}"
   ]
  },
  {
   "cell_type": "code",
   "execution_count": 54,
   "metadata": {},
   "outputs": [
    {
     "data": {
      "text/plain": [
       "'68.183.124.45'"
      ]
     },
     "execution_count": 54,
     "metadata": {},
     "output_type": "execute_result"
    }
   ],
   "source": [
    "get_my_ip(proxies=proxy_dict)"
   ]
  },
  {
   "cell_type": "markdown",
   "metadata": {},
   "source": [
    "###  Usamos socks"
   ]
  },
  {
   "cell_type": "code",
   "execution_count": 61,
   "metadata": {},
   "outputs": [],
   "source": [
    "# usamos esta url: https://www.socks-proxy.net/\n",
    "socks_proxy_dict = {'http':'socks4://170.81.232.41:49727',\n",
    "                    'https':'socks4://170.81.232.41:49727'}"
   ]
  },
  {
   "cell_type": "code",
   "execution_count": 62,
   "metadata": {},
   "outputs": [
    {
     "name": "stdout",
     "output_type": "stream",
     "text": [
      "Error haciendo la request Missing dependencies for SOCKS support.\n"
     ]
    }
   ],
   "source": [
    "get_my_ip(proxies=socks_proxy_dict)"
   ]
  }
 ],
 "metadata": {
  "kernelspec": {
   "display_name": "Python 3",
   "language": "python",
   "name": "python3"
  },
  "language_info": {
   "codemirror_mode": {
    "name": "ipython",
    "version": 3
   },
   "file_extension": ".py",
   "mimetype": "text/x-python",
   "name": "python",
   "nbconvert_exporter": "python",
   "pygments_lexer": "ipython3",
   "version": "3.8.2"
  }
 },
 "nbformat": 4,
 "nbformat_minor": 4
}
